{
  "nbformat": 4,
  "nbformat_minor": 0,
  "metadata": {
    "colab": {
      "name": "CloningGitRepo.ipynb",
      "provenance": []
    },
    "kernelspec": {
      "name": "python3",
      "display_name": "Python 3"
    },
    "language_info": {
      "name": "python"
    }
  },
  "cells": [
    {
      "cell_type": "code",
      "execution_count": null,
      "metadata": {
        "id": "PHTgIGqjTQzR"
      },
      "outputs": [],
      "source": [
        "# Mount Google Drive \n",
        "from google.colab import drive\n",
        "\n",
        "ROOT = \"/content/drive\"\n",
        "\n",
        "drive.mount(ROOT)"
      ]
    },
    {
      "cell_type": "code",
      "source": [
        "#Should be the same for you\n",
        "PATH = \"/content/drive/MyDrive\"\n",
        "\n",
        "#Additional path to where you want to save your repos\n",
        "REPOPARENT = \"/PATH/TO/PARENT/\"\n",
        "\n",
        "#Name of repo\n",
        "REPONAME = \"PublicModelsAPI\"\n",
        "\n",
        "#Put your github name (for example mine is forrestdavis)\n",
        "GITNAME = 'ADD'\n",
        "\n",
        "#Git Personal Access Token DO NOT SHARE THIS!\n",
        "GITTOKEN = \"YOUR ACCESS TOKEN\"\n"
      ],
      "metadata": {
        "id": "1Kgc7MEyVkHI"
      },
      "execution_count": null,
      "outputs": []
    },
    {
      "cell_type": "code",
      "source": [
        "#Navigate to place to save repo\n",
        "%cd \"{PATH}{REPOPARENT}\"\n",
        "\n",
        "#Clone repo\n",
        "!git clone \"https://{GITTOKEN}@github.com/{GITNAME}/{REPONAME}.git\""
      ],
      "metadata": {
        "id": "aIRg9WeUbUFN"
      },
      "execution_count": null,
      "outputs": []
    },
    {
      "cell_type": "code",
      "source": [
        "#Navigate to your repo\n",
        "%cd \"{REPONAME}\""
      ],
      "metadata": {
        "id": "ZYJYmcKZX_fy"
      },
      "execution_count": null,
      "outputs": []
    },
    {
      "cell_type": "code",
      "source": [
        "#Check that git is working\n",
        "!git status"
      ],
      "metadata": {
        "id": "7f4_2PBUYFYo"
      },
      "execution_count": null,
      "outputs": []
    }
  ]
}
